{
 "cells": [
  {
   "cell_type": "markdown",
   "metadata": {},
   "source": [
    "## Preliminary processing"
   ]
  },
  {
   "cell_type": "markdown",
   "metadata": {},
   "source": [
    "### Import packages and read in data"
   ]
  },
  {
   "cell_type": "code",
   "execution_count": 1,
   "metadata": {},
   "outputs": [],
   "source": [
    "import os\n",
    "\n",
    "import pandas as pd\n",
    "\n",
    "src_file = \"data/standard_data.csv\"\n",
    "dst_dir = \"data\"\n",
    "dst_file = \"formatted_data.csv\"\n",
    "\n",
    "df = pd.read_csv(src_file)"
   ]
  },
  {
   "cell_type": "markdown",
   "metadata": {},
   "source": [
    "### Format data values"
   ]
  },
  {
   "cell_type": "code",
   "execution_count": 2,
   "metadata": {},
   "outputs": [],
   "source": [
    "# Gender transformation: 1--male, 0--female\n",
    "df[\"Gender\"] = df[\"Gender\"].replace(2, 0)\n",
    "\n",
    "# Reserve y-m-d precision for `RecordTime`, `AdmissionTime` and `DischargeTime` columns\n",
    "df[\"RecordTime\"] = pd.to_datetime(df[\"RecordTime\"]).dt.strftime(\"%Y-%m-%d\")\n",
    "df[\"DischargeTime\"] = pd.to_datetime(df[\"DischargeTime\"]).dt.strftime(\"%Y-%m-%d\")\n",
    "df[\"AdmissionTime\"] = pd.to_datetime(df[\"AdmissionTime\"]).dt.strftime(\"%Y-%m-%d\")"
   ]
  },
  {
   "cell_type": "markdown",
   "metadata": {},
   "source": [
    "### Clean data"
   ]
  },
  {
   "cell_type": "code",
   "execution_count": 3,
   "metadata": {},
   "outputs": [],
   "source": [
    "# Exclude patients with missing labels\n",
    "df = df.dropna(subset=[\"PatientID\", \"RecordTime\", \"DischargeTime\"], how=\"any\")\n",
    "\n",
    "# Drop columns whose values are all NaN ('2019-nCoV nucleic acid detection')\n",
    "df = df.drop(columns=[\"2019-nCoV nucleic acid detection\"])"
   ]
  },
  {
   "cell_type": "markdown",
   "metadata": {},
   "source": [
    "### Merge data"
   ]
  },
  {
   "cell_type": "code",
   "execution_count": 4,
   "metadata": {},
   "outputs": [],
   "source": [
    "# Merge data by PatientID and RecordTime\n",
    "df = df.groupby(\n",
    "    [\"PatientID\", \"RecordTime\", \"AdmissionTime\", \"DischargeTime\"],\n",
    "    dropna=True,\n",
    "    as_index=False,\n",
    ").mean()"
   ]
  },
  {
   "cell_type": "markdown",
   "metadata": {},
   "source": [
    "### Calculate the Length-of-Stay (LOS) label"
   ]
  },
  {
   "cell_type": "code",
   "execution_count": 5,
   "metadata": {},
   "outputs": [],
   "source": [
    "# Calculate LOS (Length of Stay) in days and insert it after the column `Outcome`\n",
    "df.insert(\n",
    "    5,\n",
    "    \"LOS\",\n",
    "    (pd.to_datetime(df[\"DischargeTime\"]) - pd.to_datetime(df[\"RecordTime\"])).dt.days.astype(float)\n",
    ")\n",
    "\n",
    "# Notice: Set negative LOS values to 0\n",
    "df[\"LOS\"] = df[\"LOS\"].apply(lambda x: 0 if x < 0 else x)"
   ]
  },
  {
   "cell_type": "markdown",
   "metadata": {},
   "source": [
    "### Export formatted table"
   ]
  },
  {
   "cell_type": "code",
   "execution_count": 6,
   "metadata": {},
   "outputs": [],
   "source": [
    "os.makedirs(dst_dir, exist_ok=True)\n",
    "df.to_csv(os.path.join(dst_dir, dst_file), index=False)"
   ]
  }
 ],
 "metadata": {
  "kernelspec": {
   "display_name": "covid",
   "language": "python",
   "name": "python3"
  },
  "language_info": {
   "codemirror_mode": {
    "name": "ipython",
    "version": 3
   },
   "file_extension": ".py",
   "mimetype": "text/x-python",
   "name": "python",
   "nbconvert_exporter": "python",
   "pygments_lexer": "ipython3",
   "version": "3.11.10"
  }
 },
 "nbformat": 4,
 "nbformat_minor": 2
}
