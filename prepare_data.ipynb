{
 "cells": [
  {
   "cell_type": "markdown",
   "metadata": {},
   "source": [
    "## Prepare data"
   ]
  },
  {
   "cell_type": "markdown",
   "metadata": {},
   "source": [
    "### Standardize the table"
   ]
  },
  {
   "cell_type": "markdown",
   "metadata": {},
   "source": [
    "#### Read in original data"
   ]
  },
  {
   "cell_type": "code",
   "execution_count": 4,
   "metadata": {},
   "outputs": [],
   "source": [
    "import os\n",
    "\n",
    "import pandas as pd\n",
    "\n",
    "src_file = \"time_series_375_prerpocess_en.xlsx\"\n",
    "dst_dir = \"data\"\n",
    "dst_file = \"standard_data.csv\"\n",
    "\n",
    "df = pd.read_excel(src_file)"
   ]
  },
  {
   "cell_type": "markdown",
   "metadata": {},
   "source": [
    "#### Standardize process"
   ]
  },
  {
   "cell_type": "code",
   "execution_count": 5,
   "metadata": {},
   "outputs": [],
   "source": [
    "# Rename columns\n",
    "df = df.rename(\n",
    "    columns={\n",
    "        \"PATIENT_ID\": \"PatientID\",\n",
    "        \"outcome\": \"Outcome\",\n",
    "        \"gender\": \"Gender\",\n",
    "        \"age\": \"Age\",\n",
    "        \"RE_DATE\": \"RecordTime\",\n",
    "        \"Admission time\": \"AdmissionTime\",\n",
    "        \"Discharge time\": \"DischargeTime\",\n",
    "    }\n",
    ")\n",
    "\n",
    "# Fill PatientID column\n",
    "df[\"PatientID\"] = df[\"PatientID\"].ffill()\n",
    "\n",
    "# Change the order of columns\n",
    "basic_records = [\"PatientID\", \"RecordTime\", \"AdmissionTime\", \"DischargeTime\", \"Outcome\"]\n",
    "demographic_features = [\"Gender\", \"Age\"]\n",
    "labtest_features = list(set(df.columns) - set(basic_records + demographic_features))\n",
    "df = df[basic_records + demographic_features + labtest_features]"
   ]
  },
  {
   "cell_type": "markdown",
   "metadata": {},
   "source": [
    "#### Export standardized table"
   ]
  },
  {
   "cell_type": "code",
   "execution_count": 6,
   "metadata": {},
   "outputs": [],
   "source": [
    "os.makedirs(dst_dir, exist_ok=True)\n",
    "df.to_csv(os.path.join(dst_dir, dst_file), index=False)"
   ]
  }
 ],
 "metadata": {
  "kernelspec": {
   "display_name": "covid",
   "language": "python",
   "name": "python3"
  },
  "language_info": {
   "codemirror_mode": {
    "name": "ipython",
    "version": 3
   },
   "file_extension": ".py",
   "mimetype": "text/x-python",
   "name": "python",
   "nbconvert_exporter": "python",
   "pygments_lexer": "ipython3",
   "version": "3.11.10"
  }
 },
 "nbformat": 4,
 "nbformat_minor": 2
}
